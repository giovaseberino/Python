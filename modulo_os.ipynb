{
 "cells": [
  {
   "cell_type": "code",
   "execution_count": 2,
   "metadata": {},
   "outputs": [],
   "source": [
    "import os"
   ]
  },
  {
   "cell_type": "markdown",
   "metadata": {},
   "source": [
    "# Verificar pasta atual de trabalho"
   ]
  },
  {
   "cell_type": "code",
   "execution_count": 3,
   "metadata": {},
   "outputs": [
    {
     "name": "stdout",
     "output_type": "stream",
     "text": [
      "c:\\Users\\giova\\desenvolvimento\\modulo10_arquivos\\modulo_os\n"
     ]
    }
   ],
   "source": [
    "# Método getcwd()\n",
    "print(os.getcwd())"
   ]
  },
  {
   "cell_type": "code",
   "execution_count": 5,
   "metadata": {},
   "outputs": [
    {
     "data": {
      "text/plain": [
       "['modulo_os.ipynb', 'pasta01']"
      ]
     },
     "execution_count": 5,
     "metadata": {},
     "output_type": "execute_result"
    }
   ],
   "source": [
    "# Listar arquivos e pastas - método listdir()\n",
    "\n",
    "os.listdir()"
   ]
  },
  {
   "cell_type": "code",
   "execution_count": 6,
   "metadata": {},
   "outputs": [
    {
     "data": {
      "text/plain": [
       "'c:\\\\Users\\\\giova\\\\desenvolvimento\\\\modulo10_arquivos\\\\modulo_os\\\\texto02.txt'"
      ]
     },
     "execution_count": 6,
     "metadata": {},
     "output_type": "execute_result"
    }
   ],
   "source": [
    "# Path - join() e basename()\n",
    "\n",
    "os.path.join(os.getcwd(), \"texto02.txt\")"
   ]
  },
  {
   "cell_type": "code",
   "execution_count": 7,
   "metadata": {},
   "outputs": [
    {
     "data": {
      "text/plain": [
       "'modulo_os'"
      ]
     },
     "execution_count": 7,
     "metadata": {},
     "output_type": "execute_result"
    }
   ],
   "source": [
    "os.path.basename(os.getcwd())"
   ]
  },
  {
   "cell_type": "code",
   "execution_count": 8,
   "metadata": {},
   "outputs": [
    {
     "data": {
      "text/plain": [
       "True"
      ]
     },
     "execution_count": 8,
     "metadata": {},
     "output_type": "execute_result"
    }
   ],
   "source": [
    "# Verificar se é arquivo ou pasta - méotodo isfile() e isdir()\n",
    "\n",
    "os.path.isfile(os.path.join(os.getcwd(), \"texto02.txt\"))"
   ]
  },
  {
   "cell_type": "code",
   "execution_count": 9,
   "metadata": {},
   "outputs": [
    {
     "data": {
      "text/plain": [
       "False"
      ]
     },
     "execution_count": 9,
     "metadata": {},
     "output_type": "execute_result"
    }
   ],
   "source": [
    "os.path.isdir(os.path.join(os.getcwd(), \"texto02.txt\"))"
   ]
  },
  {
   "cell_type": "code",
   "execution_count": 10,
   "metadata": {},
   "outputs": [
    {
     "data": {
      "text/plain": [
       "True"
      ]
     },
     "execution_count": 10,
     "metadata": {},
     "output_type": "execute_result"
    }
   ],
   "source": [
    "os.path.isdir(os.path.join(os.getcwd(), \"pasta01\"))"
   ]
  },
  {
   "cell_type": "code",
   "execution_count": 14,
   "metadata": {},
   "outputs": [
    {
     "data": {
      "text/plain": [
       "'c:\\\\Users\\\\giova\\\\desenvolvimento\\\\modulo10_arquivos'"
      ]
     },
     "execution_count": 14,
     "metadata": {},
     "output_type": "execute_result"
    }
   ],
   "source": [
    "# alterar o diretório padrão - chdir()\n",
    "os.getcwd()"
   ]
  },
  {
   "cell_type": "code",
   "execution_count": 13,
   "metadata": {},
   "outputs": [],
   "source": [
    "os.chdir(r'c:\\Users\\giova\\desenvolvimento\\modulo10_arquivos')"
   ]
  },
  {
   "cell_type": "code",
   "execution_count": 15,
   "metadata": {},
   "outputs": [
    {
     "data": {
      "text/plain": [
       "['arquivos_csv_json.ipynb',\n",
       " 'dados.csv',\n",
       " 'dados.json',\n",
       " 'dados.txt',\n",
       " 'dados_json_em_csv.csv',\n",
       " 'dados_json_em_csv_2.csv',\n",
       " 'escrevendo_arquivos.ipynb',\n",
       " 'lendo_arquivos.ipynb',\n",
       " 'modulo_os',\n",
       " 'nomes.txt']"
      ]
     },
     "execution_count": 15,
     "metadata": {},
     "output_type": "execute_result"
    }
   ],
   "source": [
    "os.listdir()"
   ]
  },
  {
   "cell_type": "code",
   "execution_count": 16,
   "metadata": {},
   "outputs": [],
   "source": [
    "# Criar e deletar pastas - mkdir() e rmdir()\n",
    "\n",
    "os.chdir('c:\\\\Users\\\\giova\\\\desenvolvimento\\\\modulo10_arquivos\\\\modulo_os')"
   ]
  },
  {
   "cell_type": "code",
   "execution_count": 17,
   "metadata": {},
   "outputs": [],
   "source": [
    "os.mkdir(\"pasta02\")"
   ]
  },
  {
   "cell_type": "code",
   "execution_count": 18,
   "metadata": {},
   "outputs": [],
   "source": [
    "os.rmdir(\"pasta02\")"
   ]
  },
  {
   "cell_type": "code",
   "execution_count": 20,
   "metadata": {},
   "outputs": [],
   "source": [
    "## Renomear arquivos e pastas \n",
    "## Métodos rename() e replace()\n",
    "\n",
    "os.replace(\"texto02.txt\", \"texto20.txt\")"
   ]
  },
  {
   "cell_type": "code",
   "execution_count": 21,
   "metadata": {},
   "outputs": [],
   "source": [
    "os.replace(\"pasta01\", \"pasta10\")"
   ]
  },
  {
   "cell_type": "code",
   "execution_count": 23,
   "metadata": {},
   "outputs": [],
   "source": [
    "de = os.path.join(os.getcwd(), \"texto20.txt\")\n",
    "para = 'c:\\\\Users\\\\giova\\\\desenvolvimento\\\\modulo10_arquivos\\\\modulo_os\\\\pasta10\\\\texto20.txt'"
   ]
  },
  {
   "cell_type": "code",
   "execution_count": 24,
   "metadata": {},
   "outputs": [],
   "source": [
    "os.replace(de, para)"
   ]
  },
  {
   "cell_type": "code",
   "execution_count": 26,
   "metadata": {},
   "outputs": [
    {
     "ename": "FileNotFoundError",
     "evalue": "[WinError 2] O sistema não pode encontrar o arquivo especificado: 'c:\\\\Users\\\\giova\\\\desenvolvimento\\\\modulo10_arquivos\\\\modulo_os\\\\pasta10\\\\texto20.txt'",
     "output_type": "error",
     "traceback": [
      "\u001b[1;31m---------------------------------------------------------------------------\u001b[0m",
      "\u001b[1;31mFileNotFoundError\u001b[0m                         Traceback (most recent call last)",
      "\u001b[1;32mc:\\Users\\giova\\desenvolvimento\\modulo10_arquivos\\modulo_os\\modulo_os.ipynb Cell 20\u001b[0m line \u001b[0;36m2\n\u001b[0;32m      <a href='vscode-notebook-cell:/c%3A/Users/giova/desenvolvimento/modulo10_arquivos/modulo_os/modulo_os.ipynb#X26sZmlsZQ%3D%3D?line=0'>1</a>\u001b[0m \u001b[39m# Método remove\u001b[39;00m\n\u001b[1;32m----> <a href='vscode-notebook-cell:/c%3A/Users/giova/desenvolvimento/modulo10_arquivos/modulo_os/modulo_os.ipynb#X26sZmlsZQ%3D%3D?line=1'>2</a>\u001b[0m os\u001b[39m.\u001b[39mremove(\u001b[39m'\u001b[39m\u001b[39mc:\u001b[39m\u001b[39m\\\\\u001b[39;00m\u001b[39mUsers\u001b[39m\u001b[39m\\\\\u001b[39;00m\u001b[39mgiova\u001b[39m\u001b[39m\\\\\u001b[39;00m\u001b[39mdesenvolvimento\u001b[39m\u001b[39m\\\\\u001b[39;00m\u001b[39mmodulo10_arquivos\u001b[39m\u001b[39m\\\\\u001b[39;00m\u001b[39mmodulo_os\u001b[39m\u001b[39m\\\\\u001b[39;00m\u001b[39mpasta10\u001b[39m\u001b[39m\\\\\u001b[39;00m\u001b[39mtexto20.txt\u001b[39m\u001b[39m'\u001b[39m)\n",
      "\u001b[1;31mFileNotFoundError\u001b[0m: [WinError 2] O sistema não pode encontrar o arquivo especificado: 'c:\\\\Users\\\\giova\\\\desenvolvimento\\\\modulo10_arquivos\\\\modulo_os\\\\pasta10\\\\texto20.txt'"
     ]
    }
   ],
   "source": [
    "# Método remove\n",
    "os.remove('c:\\\\Users\\\\giova\\\\desenvolvimento\\\\modulo10_arquivos\\\\modulo_os\\\\pasta10\\\\texto20.txt')"
   ]
  },
  {
   "cell_type": "code",
   "execution_count": 27,
   "metadata": {},
   "outputs": [
    {
     "data": {
      "text/plain": [
       "0"
      ]
     },
     "execution_count": 27,
     "metadata": {},
     "output_type": "execute_result"
    }
   ],
   "source": [
    "# Exceutando comeandos no sistema operacional\n",
    "\n",
    "os.system(\"mkdir teste\")"
   ]
  },
  {
   "cell_type": "code",
   "execution_count": null,
   "metadata": {},
   "outputs": [],
   "source": []
  }
 ],
 "metadata": {
  "kernelspec": {
   "display_name": "base",
   "language": "python",
   "name": "python3"
  },
  "language_info": {
   "codemirror_mode": {
    "name": "ipython",
    "version": 3
   },
   "file_extension": ".py",
   "mimetype": "text/x-python",
   "name": "python",
   "nbconvert_exporter": "python",
   "pygments_lexer": "ipython3",
   "version": "3.11.4"
  },
  "orig_nbformat": 4
 },
 "nbformat": 4,
 "nbformat_minor": 2
}
