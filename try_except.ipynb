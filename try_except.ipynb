{
 "cells": [
  {
   "cell_type": "code",
   "execution_count": 1,
   "metadata": {},
   "outputs": [
    {
     "name": "stdout",
     "output_type": "stream",
     "text": [
      "Algum erro aconteceu!\n",
      "Programa continua..\n"
     ]
    }
   ],
   "source": [
    "try:\n",
    "    print(10 / 0)\n",
    "except:\n",
    "    print('Algum erro aconteceu!')\n",
    "\n",
    "print('Programa continua..')"
   ]
  },
  {
   "cell_type": "code",
   "execution_count": 3,
   "metadata": {},
   "outputs": [
    {
     "name": "stdout",
     "output_type": "stream",
     "text": [
      "Você está tentando dividir um número por 0\n",
      "O programa continua..\n"
     ]
    }
   ],
   "source": [
    "try:\n",
    "    print(10 / 0)\n",
    "except NameError:\n",
    "    print('Você está tentando usar um objeto não declarado!')\n",
    "except ZeroDivisionError:\n",
    "    print('Você está tentando dividir um número por 0')\n",
    "\n",
    "print(\"O programa continua..\")\n"
   ]
  },
  {
   "cell_type": "code",
   "execution_count": 5,
   "metadata": {},
   "outputs": [
    {
     "name": "stdout",
     "output_type": "stream",
     "text": [
      "Ocorreu o seguinto erro: division by zero\n"
     ]
    }
   ],
   "source": [
    "try:\n",
    "    print (10/0)\n",
    "except Exception as e:\n",
    "    print(f'Ocorreu o seguinto erro: {e}')"
   ]
  },
  {
   "cell_type": "code",
   "execution_count": null,
   "metadata": {},
   "outputs": [],
   "source": [
    "try:\n",
    "    for i in range(10):\n",
    "        print(i)\n",
    "except:\n",
    "    print('Ocorreu um erro!')"
   ]
  },
  {
   "cell_type": "markdown",
   "metadata": {},
   "source": [
    "# ELSE E FINALLY"
   ]
  },
  {
   "cell_type": "code",
   "execution_count": 9,
   "metadata": {},
   "outputs": [
    {
     "name": "stdout",
     "output_type": "stream",
     "text": [
      "Ocorreu um erro!\n",
      "Código que sempre vai ser executado! \n",
      "programa continua.. \n"
     ]
    }
   ],
   "source": [
    "try:\n",
    "    resultado = 10 / 0\n",
    "except:\n",
    "    print('Ocorreu um erro!')\n",
    "else:\n",
    "    print(resultado)\n",
    "finally:\n",
    "    print('Código que sempre vai ser executado! ')\n",
    "\n",
    "print('programa continua.. ')"
   ]
  },
  {
   "cell_type": "markdown",
   "metadata": {},
   "source": []
  },
  {
   "cell_type": "markdown",
   "metadata": {},
   "source": []
  }
 ],
 "metadata": {
  "kernelspec": {
   "display_name": "base",
   "language": "python",
   "name": "python3"
  },
  "language_info": {
   "codemirror_mode": {
    "name": "ipython",
    "version": 3
   },
   "file_extension": ".py",
   "mimetype": "text/x-python",
   "name": "python",
   "nbconvert_exporter": "python",
   "pygments_lexer": "ipython3",
   "version": "3.11.4"
  },
  "orig_nbformat": 4
 },
 "nbformat": 4,
 "nbformat_minor": 2
}
